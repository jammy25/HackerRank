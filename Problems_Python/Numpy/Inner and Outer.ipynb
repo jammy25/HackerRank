{
 "cells": [
  {
   "cell_type": "code",
   "execution_count": 3,
   "id": "467e2fd0",
   "metadata": {
    "scrolled": false
   },
   "outputs": [
    {
     "name": "stdout",
     "output_type": "stream",
     "text": [
      "0 1\n",
      "2 3\n",
      "3\n",
      "[[0 0]\n",
      " [2 3]]\n"
     ]
    }
   ],
   "source": [
    "import numpy as np\n",
    "\n",
    "a = list(map(int, input().split()))\n",
    "b = list(map(int, input().split()))\n",
    "\n",
    "print(np.array(np.inner(a, b)))\n",
    "print(np.array(np.outer(a, b)))"
   ]
  },
  {
   "cell_type": "code",
   "execution_count": 5,
   "id": "5a66397c",
   "metadata": {},
   "outputs": [
    {
     "name": "stdout",
     "output_type": "stream",
     "text": [
      "0 1\n",
      "2 3\n",
      "3\n",
      "[[0 0]\n",
      " [2 3]]\n"
     ]
    }
   ],
   "source": [
    "import numpy as np\n",
    "\n",
    "a = np.array(list(map(int, input().split())))\n",
    "b = np.array(list(map(int, input().split())))\n",
    "\n",
    "print(np.inner(a, b))\n",
    "print(np.outer(a, b))"
   ]
  },
  {
   "cell_type": "code",
   "execution_count": 6,
   "id": "e329ab36",
   "metadata": {},
   "outputs": [
    {
     "name": "stdout",
     "output_type": "stream",
     "text": [
      "0 1\n",
      "2 3\n",
      "3\n",
      "[[0 0]\n",
      " [2 3]]\n"
     ]
    }
   ],
   "source": [
    "import numpy as np\n",
    "\n",
    "a, b = (np.array(input().split(), int) for _ in range(2))\n",
    "\n",
    "print(np.inner(a, b), np.outer(a, b), sep = '\\n')"
   ]
  }
 ],
 "metadata": {
  "kernelspec": {
   "display_name": "Python 3 (ipykernel)",
   "language": "python",
   "name": "python3"
  },
  "language_info": {
   "codemirror_mode": {
    "name": "ipython",
    "version": 3
   },
   "file_extension": ".py",
   "mimetype": "text/x-python",
   "name": "python",
   "nbconvert_exporter": "python",
   "pygments_lexer": "ipython3",
   "version": "3.9.10"
  }
 },
 "nbformat": 4,
 "nbformat_minor": 5
}
