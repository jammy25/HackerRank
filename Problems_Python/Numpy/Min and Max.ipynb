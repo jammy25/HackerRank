{
 "cells": [
  {
   "cell_type": "code",
   "execution_count": 1,
   "id": "8f4fbb96",
   "metadata": {},
   "outputs": [
    {
     "name": "stdout",
     "output_type": "stream",
     "text": [
      "2 2\n",
      "1 2\n",
      "3 4\n",
      "24\n"
     ]
    }
   ],
   "source": [
    "import numpy as np\n",
    "\n",
    "n, m = map(int, input().split())\n",
    "\n",
    "a = np.array(list([int(i) for i in input().split()] for _ in range(n)))\n",
    "\n",
    "b = np.sum(a, axis = 0)\n",
    "print(np.prod(b))"
   ]
  },
  {
   "cell_type": "code",
   "execution_count": 2,
   "id": "98918c81",
   "metadata": {},
   "outputs": [
    {
     "name": "stdout",
     "output_type": "stream",
     "text": [
      "2 2\n",
      "1 2\n",
      "3 4\n",
      "24\n"
     ]
    }
   ],
   "source": [
    "import numpy as np\n",
    "\n",
    "n, m = [int(i) for i in input().split()]\n",
    "\n",
    "a = np.array([[int(i) for i in input().split()] for _ in range(n)])\n",
    "\n",
    "print(np.prod(np.sum(a, axis = 0)))"
   ]
  },
  {
   "cell_type": "code",
   "execution_count": 3,
   "id": "593313bd",
   "metadata": {},
   "outputs": [
    {
     "name": "stdout",
     "output_type": "stream",
     "text": [
      "2 2\n",
      "1 2\n",
      "3 4\n",
      "24\n"
     ]
    }
   ],
   "source": [
    "import numpy as np\n",
    "\n",
    "n, _ = map(int, input().split())\n",
    "\n",
    "a = [list(map(int, input().split())) for _ in range(n)]\n",
    "\n",
    "print(np.prod(np.sum(a, axis = 0)))"
   ]
  }
 ],
 "metadata": {
  "kernelspec": {
   "display_name": "Python 3 (ipykernel)",
   "language": "python",
   "name": "python3"
  },
  "language_info": {
   "codemirror_mode": {
    "name": "ipython",
    "version": 3
   },
   "file_extension": ".py",
   "mimetype": "text/x-python",
   "name": "python",
   "nbconvert_exporter": "python",
   "pygments_lexer": "ipython3",
   "version": "3.9.10"
  }
 },
 "nbformat": 4,
 "nbformat_minor": 5
}
