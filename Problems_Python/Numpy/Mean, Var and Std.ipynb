{
 "cells": [
  {
   "cell_type": "code",
   "execution_count": 1,
   "id": "972f9c31",
   "metadata": {
    "scrolled": true
   },
   "outputs": [
    {
     "name": "stdout",
     "output_type": "stream",
     "text": [
      "2 2\n",
      "1 2\n",
      "3 4\n",
      "[1.5 3.5]\n",
      "[1. 1.]\n",
      "1.118033988749895\n"
     ]
    }
   ],
   "source": [
    "import numpy as np\n",
    "\n",
    "n, _ = map(int, input().split())\n",
    "\n",
    "a = [list(map(float, input().split())) for _ in range(n)]\n",
    "\n",
    "print(np.mean(np.array(a), axis = 1))\n",
    "print(np.var(np.array(a), axis = 0))\n",
    "print(np.std(np.array(a)).round(11))"
   ]
  },
  {
   "cell_type": "code",
   "execution_count": 19,
   "id": "1316db79",
   "metadata": {
    "scrolled": false
   },
   "outputs": [
    {
     "name": "stdout",
     "output_type": "stream",
     "text": [
      "2 2\n",
      "1 2\n",
      "3 4\n",
      "[1.5 3.5]\n",
      "[1. 1.]\n",
      "1.118033988749895\n"
     ]
    }
   ],
   "source": [
    "import numpy as np\n",
    "\n",
    "n, m = map(int, input().split())\n",
    "\n",
    "a = np.array([list(map(float, input().split())) for _ in range(n)])\n",
    "\n",
    "print(np.mean(a, axis = 1), np.var(a, axis = 0), np.std(a), sep = '\\n')"
   ]
  }
 ],
 "metadata": {
  "kernelspec": {
   "display_name": "Python 3 (ipykernel)",
   "language": "python",
   "name": "python3"
  },
  "language_info": {
   "codemirror_mode": {
    "name": "ipython",
    "version": 3
   },
   "file_extension": ".py",
   "mimetype": "text/x-python",
   "name": "python",
   "nbconvert_exporter": "python",
   "pygments_lexer": "ipython3",
   "version": "3.9.10"
  }
 },
 "nbformat": 4,
 "nbformat_minor": 5
}
