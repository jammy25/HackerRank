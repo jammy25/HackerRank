{
 "cells": [
  {
   "cell_type": "code",
   "execution_count": 4,
   "id": "f620a565",
   "metadata": {},
   "outputs": [
    {
     "name": "stdout",
     "output_type": "stream",
     "text": [
      "1 4\n",
      "1 2 3 4\n",
      "5 6 7 8\n",
      "[[ 6  8 10 12]]\n",
      "[[-4 -4 -4 -4]]\n",
      "[[ 5 12 21 32]]\n",
      "[[0 0 0 0]]\n",
      "[[1 2 3 4]]\n",
      "[[    1    64  2187 65536]]\n"
     ]
    }
   ],
   "source": [
    "import numpy as np\n",
    "\n",
    "n, m = map(int, input().split())\n",
    "\n",
    "a = np.array([[int(i) for i in input().split()] for _ in range(n)])\n",
    "b = np.array([[int(i) for i in input().split()] for _ in range(n)])\n",
    "\n",
    "print(np.add(a, b))\n",
    "print(np.subtract(a, b))\n",
    "print(np.multiply(a, b))\n",
    "print(np.floor_divide(a, b))\n",
    "print(np.mod(a, b))\n",
    "print(np.power(a, b))"
   ]
  }
 ],
 "metadata": {
  "kernelspec": {
   "display_name": "Python 3 (ipykernel)",
   "language": "python",
   "name": "python3"
  },
  "language_info": {
   "codemirror_mode": {
    "name": "ipython",
    "version": 3
   },
   "file_extension": ".py",
   "mimetype": "text/x-python",
   "name": "python",
   "nbconvert_exporter": "python",
   "pygments_lexer": "ipython3",
   "version": "3.9.10"
  }
 },
 "nbformat": 4,
 "nbformat_minor": 5
}
