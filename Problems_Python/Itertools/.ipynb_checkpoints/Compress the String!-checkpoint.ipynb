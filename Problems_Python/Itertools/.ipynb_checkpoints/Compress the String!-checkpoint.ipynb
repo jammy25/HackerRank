{
 "cells": [
  {
   "cell_type": "code",
   "execution_count": 12,
   "id": "27d01a1d",
   "metadata": {
    "scrolled": true
   },
   "outputs": [
    {
     "name": "stdout",
     "output_type": "stream",
     "text": [
      "1222311\n",
      "(1, 1) (3, 2) (1, 3) (2, 1) "
     ]
    }
   ],
   "source": [
    "import itertools\n",
    "n = input()\n",
    "\n",
    "for key, group in itertools.groupby(n):\n",
    "    print((len(list(group)), int(key)), end = ' ')"
   ]
  },
  {
   "cell_type": "code",
   "execution_count": 13,
   "id": "29d42fb8",
   "metadata": {},
   "outputs": [
    {
     "name": "stdout",
     "output_type": "stream",
     "text": [
      "12223311\n",
      "(1, 1) (3, 2) (2, 3) (2, 1)\n"
     ]
    }
   ],
   "source": [
    "import itertools\n",
    "\n",
    "S = input()\n",
    "l = []\n",
    "for k, v in itertools.groupby(S):\n",
    "    t = (len(list(v)), int(k))\n",
    "    l.append(t)\n",
    "print(*l)  #unpack list items and form tuple"
   ]
  }
 ],
 "metadata": {
  "kernelspec": {
   "display_name": "Python 3 (ipykernel)",
   "language": "python",
   "name": "python3"
  },
  "language_info": {
   "codemirror_mode": {
    "name": "ipython",
    "version": 3
   },
   "file_extension": ".py",
   "mimetype": "text/x-python",
   "name": "python",
   "nbconvert_exporter": "python",
   "pygments_lexer": "ipython3",
   "version": "3.9.10"
  }
 },
 "nbformat": 4,
 "nbformat_minor": 5
}
