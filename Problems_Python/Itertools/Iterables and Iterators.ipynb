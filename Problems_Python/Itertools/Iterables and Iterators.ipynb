{
 "cells": [
  {
   "cell_type": "code",
   "execution_count": 14,
   "id": "3a29130e",
   "metadata": {
    "scrolled": true
   },
   "outputs": [
    {
     "name": "stdout",
     "output_type": "stream",
     "text": [
      "4\n",
      "a a b c\n",
      "2\n",
      "0.833\n"
     ]
    }
   ],
   "source": [
    "from itertools import combinations\n",
    "n = int(input())\n",
    "l = input().split()\n",
    "k = int(input())\n",
    "\n",
    "comb = list(combinations(l, k))\n",
    "num = 0\n",
    "\n",
    "for i in comb:\n",
    "    if \"a\" in i:\n",
    "        num += 1\n",
    "print(f'{num/len(comb):0.3f}')"
   ]
  },
  {
   "cell_type": "code",
   "execution_count": 20,
   "id": "2041f368",
   "metadata": {},
   "outputs": [
    {
     "name": "stdout",
     "output_type": "stream",
     "text": [
      "4\n",
      "b a c a\n",
      "2\n",
      "0.833\n"
     ]
    }
   ],
   "source": [
    "from itertools import * \n",
    "n = int(input())\n",
    "ls = input().split()\n",
    "k = int(input())\n",
    "\n",
    "com = list(combinations(ls, k))\n",
    "tol = [i for i in com  if \"a\" in i ]\n",
    "# print(tol)\n",
    "# print(len(tol))\n",
    "\n",
    "print(f'{(len(tol)/len(com)):.3f}')"
   ]
  }
 ],
 "metadata": {
  "kernelspec": {
   "display_name": "Python 3 (ipykernel)",
   "language": "python",
   "name": "python3"
  },
  "language_info": {
   "codemirror_mode": {
    "name": "ipython",
    "version": 3
   },
   "file_extension": ".py",
   "mimetype": "text/x-python",
   "name": "python",
   "nbconvert_exporter": "python",
   "pygments_lexer": "ipython3",
   "version": "3.9.10"
  }
 },
 "nbformat": 4,
 "nbformat_minor": 5
}
