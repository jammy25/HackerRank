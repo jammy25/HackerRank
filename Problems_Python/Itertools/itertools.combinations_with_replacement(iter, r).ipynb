{
 "cells": [
  {
   "cell_type": "code",
   "execution_count": 2,
   "id": "e9bccad8",
   "metadata": {},
   "outputs": [
    {
     "name": "stdout",
     "output_type": "stream",
     "text": [
      "HACK 2\n",
      "AA\n",
      "AC\n",
      "AH\n",
      "AK\n",
      "CC\n",
      "CH\n",
      "CK\n",
      "HH\n",
      "HK\n",
      "KK\n"
     ]
    }
   ],
   "source": [
    "from itertools import combinations_with_replacement\n",
    "a, b = input().split()\n",
    "\n",
    "s = list(combinations_with_replacement(sorted(a), int(b)))\n",
    "\n",
    "for i in s:\n",
    "    print(\"\".join(i))"
   ]
  }
 ],
 "metadata": {
  "kernelspec": {
   "display_name": "Python 3 (ipykernel)",
   "language": "python",
   "name": "python3"
  },
  "language_info": {
   "codemirror_mode": {
    "name": "ipython",
    "version": 3
   },
   "file_extension": ".py",
   "mimetype": "text/x-python",
   "name": "python",
   "nbconvert_exporter": "python",
   "pygments_lexer": "ipython3",
   "version": "3.9.10"
  }
 },
 "nbformat": 4,
 "nbformat_minor": 5
}
