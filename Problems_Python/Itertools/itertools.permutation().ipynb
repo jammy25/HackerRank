{
 "cells": [
  {
   "cell_type": "code",
   "execution_count": 56,
   "id": "34085596",
   "metadata": {
    "scrolled": false
   },
   "outputs": [
    {
     "name": "stdout",
     "output_type": "stream",
     "text": [
      "HACK 2\n",
      "AC\n",
      "AH\n",
      "AK\n",
      "CA\n",
      "CH\n",
      "CK\n",
      "HA\n",
      "HC\n",
      "HK\n",
      "KA\n",
      "KC\n",
      "KH\n"
     ]
    }
   ],
   "source": [
    "from itertools import permutations\n",
    "\n",
    "n = input().split()\n",
    "s = sorted(n[0])\n",
    "a = int(n[1])\n",
    "\n",
    "b = (list(permutations(s, a)))\n",
    "for i in b:\n",
    "    print(\"\".join(i))"
   ]
  },
  {
   "cell_type": "code",
   "execution_count": 57,
   "id": "b4bb458a",
   "metadata": {},
   "outputs": [
    {
     "name": "stdout",
     "output_type": "stream",
     "text": [
      "HACK 2\n",
      "AC\n",
      "AH\n",
      "AK\n",
      "CA\n",
      "CH\n",
      "CK\n",
      "HA\n",
      "HC\n",
      "HK\n",
      "KA\n",
      "KC\n",
      "KH\n"
     ]
    }
   ],
   "source": [
    "from itertools import permutations\n",
    "\n",
    "word, k = input().split() \n",
    "result = permutations(sorted(word), int(k))\n",
    "\n",
    "for i in result:\n",
    "    print(\"\".join(i))"
   ]
  }
 ],
 "metadata": {
  "kernelspec": {
   "display_name": "Python 3 (ipykernel)",
   "language": "python",
   "name": "python3"
  },
  "language_info": {
   "codemirror_mode": {
    "name": "ipython",
    "version": 3
   },
   "file_extension": ".py",
   "mimetype": "text/x-python",
   "name": "python",
   "nbconvert_exporter": "python",
   "pygments_lexer": "ipython3",
   "version": "3.9.10"
  }
 },
 "nbformat": 4,
 "nbformat_minor": 5
}
