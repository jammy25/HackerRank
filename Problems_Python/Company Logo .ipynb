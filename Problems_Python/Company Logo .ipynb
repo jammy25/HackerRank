{
 "cells": [
  {
   "cell_type": "code",
   "execution_count": 25,
   "id": "88f7e14e",
   "metadata": {},
   "outputs": [
    {
     "name": "stdout",
     "output_type": "stream",
     "text": [
      "aabbbccde\n",
      "b 3\n",
      "c 2\n",
      "a 2\n"
     ]
    }
   ],
   "source": [
    "from collections import Counter\n",
    "\n",
    "s = input()\n",
    "char_count = Counter(s)\n",
    "\n",
    "sorted_char = sorted(char_count.items(), key = lambda x: (x[1], x[0]), reverse = True)\n",
    "# sorted_char = sorted(char_count.items(), key = lambda x: (-x[1], x[0]))\n",
    "\n",
    "# print(sorted_char)\n",
    "\n",
    "for i in range(3):\n",
    "    print(sorted_char[i][0], sorted_char[i][1])"
   ]
  }
 ],
 "metadata": {
  "kernelspec": {
   "display_name": "Python 3 (ipykernel)",
   "language": "python",
   "name": "python3"
  },
  "language_info": {
   "codemirror_mode": {
    "name": "ipython",
    "version": 3
   },
   "file_extension": ".py",
   "mimetype": "text/x-python",
   "name": "python",
   "nbconvert_exporter": "python",
   "pygments_lexer": "ipython3",
   "version": "3.9.10"
  }
 },
 "nbformat": 4,
 "nbformat_minor": 5
}
