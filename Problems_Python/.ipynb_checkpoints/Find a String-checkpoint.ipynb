{
 "cells": [
  {
   "cell_type": "code",
   "execution_count": 3,
   "id": "cee58fea",
   "metadata": {},
   "outputs": [
    {
     "name": "stdout",
     "output_type": "stream",
     "text": [
      "ABCDCDC\n",
      "CDC\n",
      "2\n"
     ]
    }
   ],
   "source": [
    "def count_substring(string, sub_string):\n",
    "    occurs = 0\n",
    "    x = 0\n",
    "    for i in range(len(string)):\n",
    "        x = string.find(sub_string, x, len(string))\n",
    "#         x += 1\n",
    "        if x >= 0:\n",
    "            occurs += 1\n",
    "            x += 1            \n",
    "    return occurs\n",
    "\n",
    "if __name__ == '__main__':\n",
    "    n = input().strip()\n",
    "    s = input().strip()\n",
    "    print(count_substring(n, s))"
   ]
  }
 ],
 "metadata": {
  "kernelspec": {
   "display_name": "Python 3 (ipykernel)",
   "language": "python",
   "name": "python3"
  },
  "language_info": {
   "codemirror_mode": {
    "name": "ipython",
    "version": 3
   },
   "file_extension": ".py",
   "mimetype": "text/x-python",
   "name": "python",
   "nbconvert_exporter": "python",
   "pygments_lexer": "ipython3",
   "version": "3.9.10"
  }
 },
 "nbformat": 4,
 "nbformat_minor": 5
}
