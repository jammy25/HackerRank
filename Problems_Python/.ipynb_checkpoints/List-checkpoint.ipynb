{
 "cells": [
  {
   "cell_type": "code",
   "execution_count": 5,
   "id": "b2a04cea",
   "metadata": {},
   "outputs": [
    {
     "name": "stdout",
     "output_type": "stream",
     "text": [
      "12\n",
      "insert 0 5\n",
      "insert 1 10\n",
      "insert 0 6\n",
      "print\n",
      "[6, 5, 10]\n",
      "remove 6\n",
      "append 9\n",
      "append 1\n",
      "sort\n",
      "print\n",
      "[1, 5, 9, 10]\n",
      "pop\n",
      "reverse\n",
      "print\n",
      "[9, 5, 1]\n"
     ]
    }
   ],
   "source": [
    "if __name__ == '__main__':\n",
    "    N = int(input())\n",
    "    array = []\n",
    "    \n",
    "    for _ in range(N):\n",
    "        command = input().strip().split()\n",
    "        if command[0] == 'insert' and len(command) == 3:\n",
    "            array.insert(int(command[1]), int(command[2]))\n",
    "        elif command[0] == 'print':\n",
    "            print(array)\n",
    "        elif command[0] == 'remove' and len(command) == 2:\n",
    "            array.remove(int(command[1]))\n",
    "        elif command[0] == 'append' and len(command) == 2:\n",
    "            array.append(int(command[1]))\n",
    "        elif command[0] == 'sort':\n",
    "            array.sort()\n",
    "        elif command[0] == 'pop':\n",
    "            array.pop()\n",
    "        elif command[0] == 'reverse':\n",
    "            array.reverse()\n",
    "        else:\n",
    "            print('Wrong command provided')"
   ]
  }
 ],
 "metadata": {
  "kernelspec": {
   "display_name": "Python 3 (ipykernel)",
   "language": "python",
   "name": "python3"
  },
  "language_info": {
   "codemirror_mode": {
    "name": "ipython",
    "version": 3
   },
   "file_extension": ".py",
   "mimetype": "text/x-python",
   "name": "python",
   "nbconvert_exporter": "python",
   "pygments_lexer": "ipython3",
   "version": "3.9.10"
  }
 },
 "nbformat": 4,
 "nbformat_minor": 5
}
