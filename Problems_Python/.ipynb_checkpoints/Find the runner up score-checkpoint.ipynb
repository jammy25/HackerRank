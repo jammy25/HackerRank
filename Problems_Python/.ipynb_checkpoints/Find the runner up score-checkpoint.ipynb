{
 "cells": [
  {
   "cell_type": "code",
   "execution_count": 6,
   "id": "49b7113c",
   "metadata": {},
   "outputs": [
    {
     "name": "stdout",
     "output_type": "stream",
     "text": [
      "5\n",
      "8 8 9 5 7\n",
      "8\n"
     ]
    }
   ],
   "source": [
    "def runner_up(arr):\n",
    "    winner = -100 # depends on constrain given in the problem\n",
    "    for i in arr:\n",
    "        if i > winner:\n",
    "            runner_up = winner\n",
    "            winner = i\n",
    "        elif (i < winner and i > runner_up):\n",
    "            runner_up = i\n",
    "    return runner_up\n",
    "    \n",
    "    \n",
    "#Driver Code\n",
    "if __name__ == '__main__':\n",
    "    n = int(input())\n",
    "    arr = map(int, input().split()) \n",
    "    mylist = list(arr)\n",
    "    print(runner_up(mylist))"
   ]
  },
  {
   "cell_type": "code",
   "execution_count": 5,
   "id": "92384c65",
   "metadata": {},
   "outputs": [
    {
     "name": "stdout",
     "output_type": "stream",
     "text": [
      "5\n",
      "8 5 5 4 6\n",
      "6\n"
     ]
    }
   ],
   "source": [
    "def run_up(a):\n",
    "    a.sort()\n",
    "    first = second = 0\n",
    "    for i in a:\n",
    "        if i > first:\n",
    "            second = first\n",
    "            first = i\n",
    "    return second\n",
    "\n",
    "#Driver Code\n",
    "if __name__ == '__main__':\n",
    "    n = int(input())\n",
    "    arr = map(int, input().split()) \n",
    "    mylist = list(arr)\n",
    "    print(run_up(mylist))"
   ]
  }
 ],
 "metadata": {
  "kernelspec": {
   "display_name": "Python 3 (ipykernel)",
   "language": "python",
   "name": "python3"
  },
  "language_info": {
   "codemirror_mode": {
    "name": "ipython",
    "version": 3
   },
   "file_extension": ".py",
   "mimetype": "text/x-python",
   "name": "python",
   "nbconvert_exporter": "python",
   "pygments_lexer": "ipython3",
   "version": "3.9.10"
  }
 },
 "nbformat": 4,
 "nbformat_minor": 5
}
