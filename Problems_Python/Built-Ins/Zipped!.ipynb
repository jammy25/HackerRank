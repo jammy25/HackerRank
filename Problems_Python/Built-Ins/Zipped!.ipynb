{
 "cells": [
  {
   "cell_type": "code",
   "execution_count": 5,
   "id": "9f169fe3",
   "metadata": {},
   "outputs": [
    {
     "name": "stdout",
     "output_type": "stream",
     "text": [
      "5 3\n",
      "89 90 78 93 80\n",
      "90 91 85 88 86\n",
      "91 92 83 89 90.5\n",
      "90.0\n",
      "91.0\n",
      "82.0\n",
      "90.0\n",
      "85.5\n"
     ]
    }
   ],
   "source": [
    "n, m = list(map(int, input().split()))\n",
    "x = []\n",
    "\n",
    "for i in range(m):\n",
    "    l = list(map(float, input().split()))\n",
    "    if len(x) != 0:\n",
    "        x = [sum(i) for i in zip(x, l)]\n",
    "    else:\n",
    "        x = l\n",
    "for i in x:\n",
    "    res = i/m\n",
    "    print('%.1f' %res)"
   ]
  }
 ],
 "metadata": {
  "kernelspec": {
   "display_name": "Python 3 (ipykernel)",
   "language": "python",
   "name": "python3"
  },
  "language_info": {
   "codemirror_mode": {
    "name": "ipython",
    "version": 3
   },
   "file_extension": ".py",
   "mimetype": "text/x-python",
   "name": "python",
   "nbconvert_exporter": "python",
   "pygments_lexer": "ipython3",
   "version": "3.9.10"
  }
 },
 "nbformat": 4,
 "nbformat_minor": 5
}
