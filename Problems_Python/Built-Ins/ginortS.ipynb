{
 "cells": [
  {
   "cell_type": "code",
   "execution_count": 8,
   "id": "979cbfa9",
   "metadata": {},
   "outputs": [
    {
     "name": "stdout",
     "output_type": "stream",
     "text": [
      "Sorting1234\n",
      "ginortS1324\n"
     ]
    }
   ],
   "source": [
    "inp = sorted(input())\n",
    "arr1, arr2, arr3, arr4 = [], [], [], []\n",
    "\n",
    "for i in inp:\n",
    "    if i.islower():\n",
    "        arr1.append(i)\n",
    "    elif i.isupper():\n",
    "        arr2.append(i)\n",
    "    elif i.isdigit() and int(i)%2 != 0:\n",
    "        arr3.append(i)\n",
    "    else:\n",
    "        arr4.append(i)\n",
    "        \n",
    "print(\"\".join(arr1) + \"\".join(arr2) + \"\".join(arr3) + \"\".join(arr4))"
   ]
  },
  {
   "cell_type": "code",
   "execution_count": 12,
   "id": "a8980eba",
   "metadata": {},
   "outputs": [
    {
     "name": "stdout",
     "output_type": "stream",
     "text": [
      "Sorting1234\n",
      "ginortS1324\n"
     ]
    }
   ],
   "source": [
    "inp = input()\n",
    "\n",
    "order = 'abcdefghijklmnopqrstuvwxyzABCDEFGHIJKLMNOPQRSTUVWXYZ1357902468'\n",
    "print(*sorted(inp, key=dict(zip(order, range(len(order)))).get), sep='')"
   ]
  }
 ],
 "metadata": {
  "kernelspec": {
   "display_name": "Python 3 (ipykernel)",
   "language": "python",
   "name": "python3"
  },
  "language_info": {
   "codemirror_mode": {
    "name": "ipython",
    "version": 3
   },
   "file_extension": ".py",
   "mimetype": "text/x-python",
   "name": "python",
   "nbconvert_exporter": "python",
   "pygments_lexer": "ipython3",
   "version": "3.9.10"
  }
 },
 "nbformat": 4,
 "nbformat_minor": 5
}
