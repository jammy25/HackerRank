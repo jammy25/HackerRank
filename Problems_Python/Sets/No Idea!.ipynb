{
 "cells": [
  {
   "cell_type": "code",
   "execution_count": 11,
   "id": "b54fdabf",
   "metadata": {},
   "outputs": [
    {
     "name": "stdout",
     "output_type": "stream",
     "text": [
      "3 2\n",
      "1 5 3\n",
      "3 1\n",
      "5 7\n",
      "1\n"
     ]
    }
   ],
   "source": [
    "n, m = (input().split())\n",
    "arr = (input().split())\n",
    "set_A = set(input().split())\n",
    "set_B = set(input().split())\n",
    "\n",
    "happiness_count = 0\n",
    "\n",
    "for i in arr:\n",
    "    if i in set_A:\n",
    "        happiness_count += 1\n",
    "    if i in set_B:\n",
    "        happiness_count -= 1\n",
    "            \n",
    "print(happiness_count)"
   ]
  }
 ],
 "metadata": {
  "kernelspec": {
   "display_name": "Python 3 (ipykernel)",
   "language": "python",
   "name": "python3"
  },
  "language_info": {
   "codemirror_mode": {
    "name": "ipython",
    "version": 3
   },
   "file_extension": ".py",
   "mimetype": "text/x-python",
   "name": "python",
   "nbconvert_exporter": "python",
   "pygments_lexer": "ipython3",
   "version": "3.9.10"
  }
 },
 "nbformat": 4,
 "nbformat_minor": 5
}
