{
 "cells": [
  {
   "cell_type": "code",
   "execution_count": 8,
   "id": "90e2b9e3",
   "metadata": {},
   "outputs": [
    {
     "name": "stdout",
     "output_type": "stream",
     "text": [
      "10\n",
      "161 182 161 154 176 170 167 171 170 174\n",
      "169.375\n"
     ]
    }
   ],
   "source": [
    "def average(arr):\n",
    "    a = set(arr)\n",
    "#     b = 0\n",
    "#     for i in a:\n",
    "#         b += i\n",
    "#     return(b / len(a))\n",
    "    \n",
    "    return(sum(a)/len(a))\n",
    "\n",
    "if __name__ == '__main__':\n",
    "    n = int(input())\n",
    "    array = list(map(int, input().split()))\n",
    "    result = average(array)\n",
    "    print(result)"
   ]
  }
 ],
 "metadata": {
  "kernelspec": {
   "display_name": "Python 3 (ipykernel)",
   "language": "python",
   "name": "python3"
  },
  "language_info": {
   "codemirror_mode": {
    "name": "ipython",
    "version": 3
   },
   "file_extension": ".py",
   "mimetype": "text/x-python",
   "name": "python",
   "nbconvert_exporter": "python",
   "pygments_lexer": "ipython3",
   "version": "3.9.10"
  }
 },
 "nbformat": 4,
 "nbformat_minor": 5
}
