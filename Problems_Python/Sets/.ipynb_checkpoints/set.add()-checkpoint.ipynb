{
 "cells": [
  {
   "cell_type": "code",
   "execution_count": 4,
   "id": "573d09c2",
   "metadata": {},
   "outputs": [
    {
     "name": "stdout",
     "output_type": "stream",
     "text": [
      "5\n",
      "IND\n",
      "UK\n",
      "USA\n",
      "IND\n",
      "AUS\n",
      "4\n"
     ]
    }
   ],
   "source": [
    "n = int(input())\n",
    "country = set()\n",
    "\n",
    "for i in range(n):\n",
    "    country.add(input())\n",
    "    \n",
    "print(len(country))"
   ]
  }
 ],
 "metadata": {
  "kernelspec": {
   "display_name": "Python 3 (ipykernel)",
   "language": "python",
   "name": "python3"
  },
  "language_info": {
   "codemirror_mode": {
    "name": "ipython",
    "version": 3
   },
   "file_extension": ".py",
   "mimetype": "text/x-python",
   "name": "python",
   "nbconvert_exporter": "python",
   "pygments_lexer": "ipython3",
   "version": "3.9.10"
  }
 },
 "nbformat": 4,
 "nbformat_minor": 5
}
