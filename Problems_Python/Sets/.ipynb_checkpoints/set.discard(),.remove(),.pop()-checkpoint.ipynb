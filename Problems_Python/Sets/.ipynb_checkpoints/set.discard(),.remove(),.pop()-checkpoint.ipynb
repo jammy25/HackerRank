{
 "cells": [
  {
   "cell_type": "code",
   "execution_count": 12,
   "id": "33b4ee00",
   "metadata": {},
   "outputs": [
    {
     "name": "stdout",
     "output_type": "stream",
     "text": [
      "9\n",
      "1 2 3 4 5 6 7 8 9\n",
      "10\n",
      "pop\n",
      "remove 9\n",
      "discard 9\n",
      "discard 8\n",
      "remove 7\n",
      "pop\n",
      "discard 6\n",
      "remove 5\n",
      "pop\n",
      "discard 5\n",
      "4\n"
     ]
    }
   ],
   "source": [
    "n = int(input())\n",
    "s = set(map(int, input().split()))\n",
    "c = int(input())\n",
    "\n",
    "for i in range(c):\n",
    "    command = input().split()\n",
    "    \n",
    "    if command[0] == \"pop\":\n",
    "        s.pop()\n",
    "    elif command[0] == \"remove\":\n",
    "        s.remove(int(command[1]))\n",
    "    elif command[0] == \"discard\":\n",
    "        s.discard(int(command[1]))\n",
    "    else:\n",
    "        print(\"wrong command\")\n",
    "        \n",
    "print(sum(s))"
   ]
  }
 ],
 "metadata": {
  "kernelspec": {
   "display_name": "Python 3 (ipykernel)",
   "language": "python",
   "name": "python3"
  },
  "language_info": {
   "codemirror_mode": {
    "name": "ipython",
    "version": 3
   },
   "file_extension": ".py",
   "mimetype": "text/x-python",
   "name": "python",
   "nbconvert_exporter": "python",
   "pygments_lexer": "ipython3",
   "version": "3.9.10"
  }
 },
 "nbformat": 4,
 "nbformat_minor": 5
}
