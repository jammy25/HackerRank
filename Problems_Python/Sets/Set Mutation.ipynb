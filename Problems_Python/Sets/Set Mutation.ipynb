{
 "cells": [
  {
   "cell_type": "code",
   "execution_count": 12,
   "id": "e278d915",
   "metadata": {},
   "outputs": [
    {
     "name": "stdout",
     "output_type": "stream",
     "text": [
      "16\n",
      "1 2 3 4 5 6 7 8 9 10 11 12 13 14 24 52\n",
      "4\n",
      "intersection_update 10\n",
      "2 3 5 6 8 9 1 4 7 11\n",
      "update 2\n",
      "55 66\n",
      "symmetric_difference_update 5\n",
      "22 7 35 62 58\n",
      "difference_update 7\n",
      "11 22 35 55 58 62 66\n",
      "38\n"
     ]
    }
   ],
   "source": [
    "n = int(input())\n",
    "set_A = set(map(int, input().split()))\n",
    "c = int(input())\n",
    "\n",
    "for i in range(c):\n",
    "    command = input().split()\n",
    "    element = set(map(int, input().split()))\n",
    "    \n",
    "    if command[0] == \"intersection_update\":\n",
    "        (set_A.intersection_update(element))\n",
    "    \n",
    "    elif command[0] == \"update\":\n",
    "        (set_A.update(element))\n",
    "        \n",
    "    elif command[0] == \"symmetric_difference_update\":\n",
    "        (set_A.symmetric_difference_update(element))\n",
    "        \n",
    "    elif command[0] == \"difference_update\":\n",
    "        (set_A.difference_update(element))\n",
    "    \n",
    "    else:\n",
    "        print(\"Wrong Command\")\n",
    "\n",
    "print(sum(set_A))"
   ]
  }
 ],
 "metadata": {
  "kernelspec": {
   "display_name": "Python 3 (ipykernel)",
   "language": "python",
   "name": "python3"
  },
  "language_info": {
   "codemirror_mode": {
    "name": "ipython",
    "version": 3
   },
   "file_extension": ".py",
   "mimetype": "text/x-python",
   "name": "python",
   "nbconvert_exporter": "python",
   "pygments_lexer": "ipython3",
   "version": "3.9.10"
  }
 },
 "nbformat": 4,
 "nbformat_minor": 5
}
