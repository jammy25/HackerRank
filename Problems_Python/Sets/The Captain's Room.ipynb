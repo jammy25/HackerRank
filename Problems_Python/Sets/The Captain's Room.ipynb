{
 "cells": [
  {
   "cell_type": "code",
   "execution_count": 9,
   "id": "a1343227",
   "metadata": {},
   "outputs": [
    {
     "name": "stdout",
     "output_type": "stream",
     "text": [
      "5\n",
      "1 2 3 6 5 4 4 2 5 3 6 1 6 5 3 2 4 1 2 5 1 4 3 6 8 4 3 1 5 6 2\n",
      "8\n"
     ]
    }
   ],
   "source": [
    "n = int(input())\n",
    "room_list = map(int, input().split())\n",
    "a = set()\n",
    "b = set()\n",
    "\n",
    "for i in room_list:\n",
    "    if i not in a:\n",
    "        a.add(i)\n",
    "        b.add(i)\n",
    "    else:\n",
    "        b.discard(i)\n",
    "print(*b)"
   ]
  },
  {
   "cell_type": "code",
   "execution_count": 10,
   "id": "90c8b820",
   "metadata": {},
   "outputs": [
    {
     "name": "stdout",
     "output_type": "stream",
     "text": [
      "5\n",
      "1 2 3 6 5 4 4 2 5 3 6 1 6 5 3 2 4 1 2 5 1 4 3 6 8 4 3 1 5 6 2\n",
      "8\n"
     ]
    }
   ],
   "source": [
    "n = int(input())\n",
    "room_list = map(int, input().split())\n",
    "a = {}\n",
    "\n",
    "for i in room_list:\n",
    "    if i not in a:\n",
    "        a[i] = 0\n",
    "    a[i] += 1\n",
    "        \n",
    "for key, value in a.items():\n",
    "    if a[key] == 1:\n",
    "        print(key)"
   ]
  },
  {
   "cell_type": "code",
   "execution_count": 13,
   "id": "54951860",
   "metadata": {},
   "outputs": [
    {
     "name": "stdout",
     "output_type": "stream",
     "text": [
      "5\n",
      "1 2 3 6 5 4 4 2 5 3 6 1 6 5 3 2 4 1 2 5 1 4 3 6 8 4 3 1 5 6 2\n",
      "8\n"
     ]
    }
   ],
   "source": [
    "K=int(input())\n",
    "room_nums = list(map(int,input().split()))\n",
    "\n",
    "room_set=set(room_nums)\n",
    "\n",
    "print(int((sum(room_set)*K - sum(room_nums))/(K-1)))"
   ]
  }
 ],
 "metadata": {
  "kernelspec": {
   "display_name": "Python 3 (ipykernel)",
   "language": "python",
   "name": "python3"
  },
  "language_info": {
   "codemirror_mode": {
    "name": "ipython",
    "version": 3
   },
   "file_extension": ".py",
   "mimetype": "text/x-python",
   "name": "python",
   "nbconvert_exporter": "python",
   "pygments_lexer": "ipython3",
   "version": "3.9.10"
  }
 },
 "nbformat": 4,
 "nbformat_minor": 5
}
