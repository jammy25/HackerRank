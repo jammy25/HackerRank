{
 "cells": [
  {
   "cell_type": "code",
   "execution_count": 2,
   "id": "680aa431",
   "metadata": {},
   "outputs": [
    {
     "name": "stdout",
     "output_type": "stream",
     "text": [
      "3\n",
      "britts_54@hackerrank.com\n",
      "lara@hackerrank.com\n",
      "brian-23@hackerrank.com\n",
      "['brian-23@hackerrank.com', 'britts_54@hackerrank.com', 'lara@hackerrank.com']\n"
     ]
    }
   ],
   "source": [
    "def fun(s):\n",
    "    try:\n",
    "        username, website, extension = s.split(\"@\")[0], *s.split(\"@\")[1].split(\".\")\n",
    "    except:\n",
    "        return False\n",
    "    if \"\" in [username, website, extension]:\n",
    "        return False\n",
    "    if len(list(filter(lambda x : not(x.isalnum() or x in \"_-\"), username))) != 0:\n",
    "        return False\n",
    "    if len(list(filter(lambda x : not(x.isalnum()), website))) != 0:\n",
    "        return False\n",
    "    if len(list(filter(lambda x : not(x.isalpha()), extension))) != 0 or len(extension) > 3:\n",
    "        return False\n",
    "    return True    \n",
    "    \n",
    "def filter_mail(emails):\n",
    "    return list(filter(fun, emails))\n",
    "\n",
    "if __name__ == '__main__':\n",
    "    n = int(input())\n",
    "    emails = []\n",
    "    for _ in range(n):\n",
    "        emails.append(input())\n",
    "        \n",
    "filtered_emails = filter_mail(emails)\n",
    "filtered_emails.sort()\n",
    "print(filtered_emails)"
   ]
  },
  {
   "cell_type": "code",
   "execution_count": 2,
   "id": "a3944def",
   "metadata": {},
   "outputs": [
    {
     "name": "stdout",
     "output_type": "stream",
     "text": [
      "3\n",
      "britts_54@hackerrank.com\n",
      "brian-23@hackerrank.com\n",
      "lara@hackerrank.com\n",
      "[]\n"
     ]
    }
   ],
   "source": [
    "def fun(s):\n",
    "    try:\n",
    "        username, domain = s.split('@')\n",
    "    except:\n",
    "        return False\n",
    "    if username == \"\" or domain == \"\":\n",
    "        return False\n",
    "    try:\n",
    "        websitename, extension == domain.split(\".\")\n",
    "    except:\n",
    "        return False\n",
    "    if websitename == '' or extension == '':\n",
    "        return False\n",
    "    if len(extension) > 3:\n",
    "        return False\n",
    "    if (not extension.isalpha()):\n",
    "        return False\n",
    "    if (not websitename.isalnum()):\n",
    "        return False\n",
    "    for c in username:\n",
    "        if (not c.isalnum() and c not in \"_-\"):\n",
    "            return False\n",
    "        \n",
    "    return True   \n",
    "\n",
    "def filter_mail(emails):\n",
    "    return list(filter(fun, emails))\n",
    "\n",
    "if __name__ == '__main__':\n",
    "    n = int(input())\n",
    "    emails = []\n",
    "    for _ in range(n):\n",
    "        emails.append(input())\n",
    "        \n",
    "filtere_emails = filter_mail(emails)\n",
    "filtere_emails.sort()\n",
    "print(filtere_emails)"
   ]
  }
 ],
 "metadata": {
  "kernelspec": {
   "display_name": "Python 3 (ipykernel)",
   "language": "python",
   "name": "python3"
  },
  "language_info": {
   "codemirror_mode": {
    "name": "ipython",
    "version": 3
   },
   "file_extension": ".py",
   "mimetype": "text/x-python",
   "name": "python",
   "nbconvert_exporter": "python",
   "pygments_lexer": "ipython3",
   "version": "3.9.10"
  }
 },
 "nbformat": 4,
 "nbformat_minor": 5
}
