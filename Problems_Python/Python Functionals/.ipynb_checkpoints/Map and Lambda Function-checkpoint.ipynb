{
 "cells": [
  {
   "cell_type": "code",
   "execution_count": 8,
   "id": "16631bcb",
   "metadata": {},
   "outputs": [
    {
     "name": "stdout",
     "output_type": "stream",
     "text": [
      "5\n",
      "[0, 1, 1, 8, 27]\n"
     ]
    }
   ],
   "source": [
    "cube = lambda x : x*x*x\n",
    "\n",
    "def fibonacci(n):\n",
    "    l = [0, 1]\n",
    "    if n == 0:  return list()\n",
    "    if n == 1:  return [0]\n",
    "    if n == 2:  return l\n",
    "    else:\n",
    "        for i in range(2, n):\n",
    "            l.append(l[i - 1] + l[i - 2])\n",
    "    return l\n",
    "\n",
    "if __name__ == '__main__':\n",
    "    n = int(input())\n",
    "    print(list(map(cube, fibonacci(n))))"
   ]
  }
 ],
 "metadata": {
  "kernelspec": {
   "display_name": "Python 3 (ipykernel)",
   "language": "python",
   "name": "python3"
  },
  "language_info": {
   "codemirror_mode": {
    "name": "ipython",
    "version": 3
   },
   "file_extension": ".py",
   "mimetype": "text/x-python",
   "name": "python",
   "nbconvert_exporter": "python",
   "pygments_lexer": "ipython3",
   "version": "3.9.10"
  }
 },
 "nbformat": 4,
 "nbformat_minor": 5
}
