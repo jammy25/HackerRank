{
 "cells": [
  {
   "cell_type": "code",
   "execution_count": 9,
   "id": "4bee1fa6",
   "metadata": {},
   "outputs": [
    {
     "name": "stdout",
     "output_type": "stream",
     "text": [
      "billie eilish\n",
      "Billie Eilish\n"
     ]
    }
   ],
   "source": [
    "def solve(s):\n",
    "    s = s.split(\" \")\n",
    "    a = []\n",
    "\n",
    "    for i in s:\n",
    "        a.append(i.capitalize())\n",
    "    return \" \".join(a)\n",
    "\n",
    "if __name__ == '__main__':\n",
    "    s = input()\n",
    "    result = solve(s)\n",
    "    print(result)"
   ]
  }
 ],
 "metadata": {
  "kernelspec": {
   "display_name": "Python 3 (ipykernel)",
   "language": "python",
   "name": "python3"
  },
  "language_info": {
   "codemirror_mode": {
    "name": "ipython",
    "version": 3
   },
   "file_extension": ".py",
   "mimetype": "text/x-python",
   "name": "python",
   "nbconvert_exporter": "python",
   "pygments_lexer": "ipython3",
   "version": "3.9.10"
  }
 },
 "nbformat": 4,
 "nbformat_minor": 5
}
