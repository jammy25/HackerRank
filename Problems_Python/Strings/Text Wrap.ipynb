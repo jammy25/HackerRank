{
 "cells": [
  {
   "cell_type": "code",
   "execution_count": 20,
   "id": "bef251c6",
   "metadata": {},
   "outputs": [
    {
     "name": "stdout",
     "output_type": "stream",
     "text": [
      "bscnksbcjscksbcjksbckjdscsbdcbsdkjbcsdjcbsdjkcbsdkjbckjdsbjksd\n",
      "9\n",
      "bscnksbcj\n",
      "scksbcjks\n",
      "bckjdscsb\n",
      "dcbsdkjbc\n",
      "sdjcbsdjk\n",
      "cbsdkjbck\n",
      "jdsbjksd\n"
     ]
    }
   ],
   "source": [
    "import textwrap\n",
    "\n",
    "def wrap(string, max_width):\n",
    "    \n",
    "    ele = ''\n",
    "    \n",
    "    my_wrap = textwrap.TextWrapper(width = max_width)\n",
    "    wrap_list = my_wrap.wrap(text = string)\n",
    "    \n",
    "    x = \"\\n\".join(wrap_list)\n",
    "    \n",
    "    return x\n",
    "\n",
    "if __name__ == '__main__':\n",
    "    string, max_width = input(), int(input())\n",
    "    result = wrap(string, max_width)\n",
    "    print(result)"
   ]
  }
 ],
 "metadata": {
  "kernelspec": {
   "display_name": "Python 3 (ipykernel)",
   "language": "python",
   "name": "python3"
  },
  "language_info": {
   "codemirror_mode": {
    "name": "ipython",
    "version": 3
   },
   "file_extension": ".py",
   "mimetype": "text/x-python",
   "name": "python",
   "nbconvert_exporter": "python",
   "pygments_lexer": "ipython3",
   "version": "3.9.10"
  }
 },
 "nbformat": 4,
 "nbformat_minor": 5
}
