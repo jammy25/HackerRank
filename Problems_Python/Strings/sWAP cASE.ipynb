{
 "cells": [
  {
   "cell_type": "code",
   "execution_count": 1,
   "id": "ddccf07e",
   "metadata": {},
   "outputs": [
    {
     "name": "stdout",
     "output_type": "stream",
     "text": [
      "Www.HackerRank.com\n",
      "wWW.hACKERrANK.COM\n"
     ]
    }
   ],
   "source": [
    "def swap_case(s):\n",
    "    a = s.swapcase()\n",
    "    return a\n",
    "\n",
    "if __name__ == '__main__':\n",
    "    s = input()\n",
    "    result = swap_case(s)\n",
    "    print(result)"
   ]
  },
  {
   "cell_type": "code",
   "execution_count": 9,
   "id": "ab244ebe",
   "metadata": {},
   "outputs": [
    {
     "name": "stdout",
     "output_type": "stream",
     "text": [
      "Www.HackerRank.com\n",
      "wWW.hACKERrANK.COM\n"
     ]
    }
   ],
   "source": [
    "def swap_case(s):\n",
    "    a = list(s)\n",
    "    for i in range(len(a)):\n",
    "        if a[i].islower():\n",
    "            a[i] = a[i].upper()\n",
    "        elif a[i].isupper():\n",
    "            a[i] = a[i].lower()\n",
    "    return ''.join(a)\n",
    "\n",
    "if __name__ == '__main__':\n",
    "    s = input()\n",
    "    result = swap_case(s)\n",
    "    print(result)"
   ]
  }
 ],
 "metadata": {
  "kernelspec": {
   "display_name": "Python 3 (ipykernel)",
   "language": "python",
   "name": "python3"
  },
  "language_info": {
   "codemirror_mode": {
    "name": "ipython",
    "version": 3
   },
   "file_extension": ".py",
   "mimetype": "text/x-python",
   "name": "python",
   "nbconvert_exporter": "python",
   "pygments_lexer": "ipython3",
   "version": "3.9.10"
  }
 },
 "nbformat": 4,
 "nbformat_minor": 5
}
