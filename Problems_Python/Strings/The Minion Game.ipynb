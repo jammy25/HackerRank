{
 "cells": [
  {
   "cell_type": "code",
   "execution_count": 9,
   "id": "a8e33d89",
   "metadata": {},
   "outputs": [
    {
     "name": "stdout",
     "output_type": "stream",
     "text": [
      "BANANA\n",
      "Stuart 12\n"
     ]
    }
   ],
   "source": [
    "def minion_game(s):\n",
    "    stuart = 0\n",
    "    kevin = 0\n",
    "    vowels = 'AEIOU'\n",
    "    for i in range(len(s)):\n",
    "        if s[i] in vowels:\n",
    "            kevin += (len(s) - i)\n",
    "        else:\n",
    "            stuart += (len(s) - i)\n",
    "\n",
    "    if kevin > stuart:\n",
    "        print(\"Kevin\", kevin)\n",
    "    elif stuart > kevin:\n",
    "        print(\"Stuart\", stuart)\n",
    "    else:\n",
    "        print(\"Draw\")\n",
    "\n",
    "if __name__ == '__main__':\n",
    "    s = input()\n",
    "    minion_game(s)"
   ]
  }
 ],
 "metadata": {
  "kernelspec": {
   "display_name": "Python 3 (ipykernel)",
   "language": "python",
   "name": "python3"
  },
  "language_info": {
   "codemirror_mode": {
    "name": "ipython",
    "version": 3
   },
   "file_extension": ".py",
   "mimetype": "text/x-python",
   "name": "python",
   "nbconvert_exporter": "python",
   "pygments_lexer": "ipython3",
   "version": "3.9.10"
  }
 },
 "nbformat": 4,
 "nbformat_minor": 5
}
