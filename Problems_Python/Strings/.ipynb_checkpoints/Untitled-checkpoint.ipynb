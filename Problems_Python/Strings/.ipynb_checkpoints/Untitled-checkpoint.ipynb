{
 "cells": [
  {
   "cell_type": "code",
   "execution_count": 2,
   "id": "9fd654b1",
   "metadata": {},
   "outputs": [
    {
     "name": "stdout",
     "output_type": "stream",
     "text": [
      "AABCAAADA\n",
      "3\n",
      "AB\n",
      "CA\n",
      "AD\n",
      "None\n"
     ]
    }
   ],
   "source": [
    "def string(s, k):\n",
    "\n",
    "    for i in range(0, len(s), k):\n",
    "        a = \"\"\n",
    "        for j in range(i, (i + k)):\n",
    "            if s[j] not in a:\n",
    "                a += s[j]\n",
    "        print(a)            \n",
    "    \n",
    "if __name__ == \"__main__\":\n",
    "    s = input()\n",
    "    n = int(input())\n",
    "    \n",
    "    print(string(s, n))"
   ]
  }
 ],
 "metadata": {
  "kernelspec": {
   "display_name": "Python 3 (ipykernel)",
   "language": "python",
   "name": "python3"
  },
  "language_info": {
   "codemirror_mode": {
    "name": "ipython",
    "version": 3
   },
   "file_extension": ".py",
   "mimetype": "text/x-python",
   "name": "python",
   "nbconvert_exporter": "python",
   "pygments_lexer": "ipython3",
   "version": "3.9.10"
  }
 },
 "nbformat": 4,
 "nbformat_minor": 5
}
