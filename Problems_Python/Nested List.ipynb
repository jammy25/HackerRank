{
 "cells": [
  {
   "cell_type": "code",
   "execution_count": 13,
   "id": "0afc9ee1",
   "metadata": {},
   "outputs": [
    {
     "name": "stdout",
     "output_type": "stream",
     "text": [
      "5\n",
      "Harry\n",
      "37.21\n",
      "Barry\n",
      "37.21\n",
      "Diana\n",
      "37.2\n",
      "Bruce\n",
      "41\n",
      "Clark\n",
      "39\n",
      "Barry\n",
      "Harry\n"
     ]
    }
   ],
   "source": [
    "#Driver Code\n",
    "if __name__ == '__main__':\n",
    "    student_grade = []\n",
    "    for _ in range(int(input())):\n",
    "        name = input()\n",
    "        grade = float(input())\n",
    "        student_grade.append([name, grade])\n",
    "    \n",
    "    sorted_score = sorted(list(set(x[1] for x in student_grade)))\n",
    "    sec_low = sorted_score[1]\n",
    "    \n",
    "    final_list = []\n",
    "    for students in student_grade:\n",
    "        if sec_low == students[1]:\n",
    "            final_list.append(students[0])\n",
    "    \n",
    "    for student in sorted(final_list):\n",
    "        print(student)"
   ]
  },
  {
   "cell_type": "code",
   "execution_count": 16,
   "id": "e9209bc2",
   "metadata": {},
   "outputs": [
    {
     "name": "stdout",
     "output_type": "stream",
     "text": [
      "5\n",
      "Harsh\n",
      "20\n",
      "Beria\n",
      "20\n",
      "Varun\n",
      "19\n",
      "Kakunami\n",
      "19\n",
      "Vikas\n",
      "21\n",
      "Kakunami\n",
      "Varun\n"
     ]
    }
   ],
   "source": [
    "if __name__ == '__main__':\n",
    "    \n",
    "    student_grade = []\n",
    "    scorelist = []\n",
    "    \n",
    "    for _ in range(int(input())):\n",
    "        name = input()\n",
    "        score = input()\n",
    "        student_grade.append([name, score])\n",
    "        scorelist += [score]\n",
    "    \n",
    "    scorelist.sort()\n",
    "    b = scorelist[1]\n",
    "    \n",
    "    for a, c in sorted(student_grade):\n",
    "        if c == b:\n",
    "            print(a)"
   ]
  },
  {
   "cell_type": "code",
   "execution_count": 22,
   "id": "6c7c8108",
   "metadata": {},
   "outputs": [
    {
     "name": "stdout",
     "output_type": "stream",
     "text": [
      "2\n",
      "h\n",
      "19\n",
      "s\n",
      "21\n",
      "19 0\n"
     ]
    },
    {
     "ename": "TypeError",
     "evalue": "'>' not supported between instances of 'str' and 'int'",
     "output_type": "error",
     "traceback": [
      "\u001b[1;31m---------------------------------------------------------------------------\u001b[0m",
      "\u001b[1;31mTypeError\u001b[0m                                 Traceback (most recent call last)",
      "Input \u001b[1;32mIn [22]\u001b[0m, in \u001b[0;36m<module>\u001b[1;34m\u001b[0m\n\u001b[0;32m     14\u001b[0m \u001b[38;5;28;01mfor\u001b[39;00m i \u001b[38;5;129;01min\u001b[39;00m scorelist:\n\u001b[0;32m     15\u001b[0m     \u001b[38;5;28mprint\u001b[39m(i, first)\n\u001b[1;32m---> 16\u001b[0m     \u001b[38;5;28;01mif\u001b[39;00m \u001b[43mi\u001b[49m\u001b[43m \u001b[49m\u001b[38;5;241;43m>\u001b[39;49m\u001b[43m \u001b[49m\u001b[43mfirst\u001b[49m:\n\u001b[0;32m     17\u001b[0m         second \u001b[38;5;241m=\u001b[39m first\n\u001b[0;32m     18\u001b[0m         first \u001b[38;5;241m=\u001b[39m i\n",
      "\u001b[1;31mTypeError\u001b[0m: '>' not supported between instances of 'str' and 'int'"
     ]
    }
   ],
   "source": [
    "if __name__ == '__main__':\n",
    "    \n",
    "    student_grade = []\n",
    "    scorelist = []\n",
    "    \n",
    "    for _ in range(int(input())):\n",
    "        name = input()\n",
    "        score = input()\n",
    "        student_grade.append([name, score])\n",
    "        scorelist += [score]\n",
    "    \n",
    "    scorelist.sort()\n",
    "    first = second = 0\n",
    "    for i in scorelist:\n",
    "        print(i, first)\n",
    "        if i > first:\n",
    "            second = first\n",
    "            first = i\n",
    "    b = second\n",
    "    \n",
    "    for a, c in sorted(student_grade):\n",
    "        if c == b:\n",
    "            print(a)"
   ]
  }
 ],
 "metadata": {
  "kernelspec": {
   "display_name": "Python 3 (ipykernel)",
   "language": "python",
   "name": "python3"
  },
  "language_info": {
   "codemirror_mode": {
    "name": "ipython",
    "version": 3
   },
   "file_extension": ".py",
   "mimetype": "text/x-python",
   "name": "python",
   "nbconvert_exporter": "python",
   "pygments_lexer": "ipython3",
   "version": "3.9.10"
  }
 },
 "nbformat": 4,
 "nbformat_minor": 5
}
