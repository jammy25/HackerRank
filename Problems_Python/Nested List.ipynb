{
 "cells": [
  {
   "cell_type": "code",
   "execution_count": 7,
   "id": "d1d56d24",
   "metadata": {},
   "outputs": [
    {
     "name": "stdout",
     "output_type": "stream",
     "text": [
      "5\n",
      "Stark\n",
      "19\n",
      "Bruce\n",
      "19\n",
      "Banner\n",
      "18\n",
      "Rogers\n",
      "23\n",
      "Parker\n",
      "22\n",
      "Bruce\n",
      "Stark\n"
     ]
    }
   ],
   "source": [
    "if __name__ == '__main__':\n",
    "    \n",
    "    student_grade = []\n",
    "    scorelist = []\n",
    "    \n",
    "    for _ in range(int(input())):\n",
    "        name = input()\n",
    "        score = float(input())\n",
    "        student_grade.append([name, score])\n",
    "        if score not in scorelist:\n",
    "            scorelist += [score]\n",
    "    \n",
    "    scorelist.sort()\n",
    "    b = scorelist[1]\n",
    "    \n",
    "    for a, c in sorted(student_grade):\n",
    "        if c == b:\n",
    "            print(a)"
   ]
  },
  {
   "cell_type": "code",
   "execution_count": 13,
   "id": "0afc9ee1",
   "metadata": {},
   "outputs": [
    {
     "name": "stdout",
     "output_type": "stream",
     "text": [
      "5\n",
      "Harry\n",
      "37.21\n",
      "Barry\n",
      "37.21\n",
      "Diana\n",
      "37.2\n",
      "Bruce\n",
      "41\n",
      "Clark\n",
      "39\n",
      "Barry\n",
      "Harry\n"
     ]
    }
   ],
   "source": [
    "# Not a correct code and will fail for the above case\n",
    "\n",
    "#Driver Code\n",
    "if __name__ == '__main__':\n",
    "    student_grade = []\n",
    "    for _ in range(int(input())):\n",
    "        name = input()\n",
    "        grade = float(input())\n",
    "        student_grade.append([name, grade])\n",
    "    \n",
    "    sorted_score = sorted(list(set(x[1] for x in student_grade)))\n",
    "    sec_low = sorted_score[1]\n",
    "    \n",
    "    final_list = []\n",
    "    for students in student_grade:\n",
    "        if sec_low == students[1]:\n",
    "            final_list.append(students[0])\n",
    "    \n",
    "    for student in sorted(final_list):\n",
    "        print(student)"
   ]
  }
 ],
 "metadata": {
  "kernelspec": {
   "display_name": "Python 3 (ipykernel)",
   "language": "python",
   "name": "python3"
  },
  "language_info": {
   "codemirror_mode": {
    "name": "ipython",
    "version": 3
   },
   "file_extension": ".py",
   "mimetype": "text/x-python",
   "name": "python",
   "nbconvert_exporter": "python",
   "pygments_lexer": "ipython3",
   "version": "3.9.10"
  }
 },
 "nbformat": 4,
 "nbformat_minor": 5
}
