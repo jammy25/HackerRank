{
 "cells": [
  {
   "cell_type": "code",
   "execution_count": 2,
   "id": "049f4e07",
   "metadata": {},
   "outputs": [
    {
     "name": "stdout",
     "output_type": "stream",
     "text": [
      "2\n",
      "6\n",
      "4 3 2 1 3 4\n",
      "Yes\n",
      "3\n",
      "1 3 2\n",
      "No\n"
     ]
    }
   ],
   "source": [
    "from collections import deque\n",
    "\n",
    "for _ in range(int(input())):\n",
    "    n =  int(input())\n",
    "    d = deque(list(map(int, input().split())))\n",
    "    a = \"Yes\"\n",
    "    \n",
    "    while len(d) > 1:\n",
    "        if d[0] >= d[-1]:\n",
    "            larger_num = d[0]\n",
    "            d.popleft()\n",
    "        else:\n",
    "            larger_num = d[-1]\n",
    "            d.pop()\n",
    "        \n",
    "        if larger_num < d[0] or larger_num < d[-1]:\n",
    "            a = \"No\"\n",
    "            break\n",
    "        \n",
    "    print(a)"
   ]
  },
  {
   "cell_type": "code",
   "execution_count": 4,
   "id": "486d0e33",
   "metadata": {},
   "outputs": [
    {
     "name": "stdout",
     "output_type": "stream",
     "text": [
      "2\n",
      "6\n",
      "4 3 2 1 3 4\n",
      "Yes\n",
      "3\n",
      "1 3 2\n",
      "No\n"
     ]
    }
   ],
   "source": [
    "# Gets TLE\n",
    "\n",
    "from collections import deque\n",
    "\n",
    "for _ in range(int(input())):\n",
    "    n =  int(input())\n",
    "    d = deque(list(map(int, input().split())))\n",
    "    a = True\n",
    "    \n",
    "    for i in range(n - 1):\n",
    "        m = max(d)\n",
    "        \n",
    "        if d[0] == m or d[n - 1 - i] == m:\n",
    "            if d[0] == m:\n",
    "                d.popleft()\n",
    "            else:\n",
    "                d.pop()\n",
    "            continue\n",
    "        else:\n",
    "            a = False\n",
    "        \n",
    "    if a:\n",
    "        print(\"Yes\")\n",
    "    else:\n",
    "        print(\"No\")"
   ]
  }
 ],
 "metadata": {
  "kernelspec": {
   "display_name": "Python 3 (ipykernel)",
   "language": "python",
   "name": "python3"
  },
  "language_info": {
   "codemirror_mode": {
    "name": "ipython",
    "version": 3
   },
   "file_extension": ".py",
   "mimetype": "text/x-python",
   "name": "python",
   "nbconvert_exporter": "python",
   "pygments_lexer": "ipython3",
   "version": "3.9.10"
  }
 },
 "nbformat": 4,
 "nbformat_minor": 5
}
