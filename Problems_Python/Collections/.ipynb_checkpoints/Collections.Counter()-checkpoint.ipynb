{
 "cells": [
  {
   "cell_type": "code",
   "execution_count": 7,
   "id": "e7c32948",
   "metadata": {},
   "outputs": [
    {
     "name": "stdout",
     "output_type": "stream",
     "text": [
      "10\n",
      "2 3 4 5 6 8 7 6 5 18\n",
      "6\n",
      "6 55\n",
      "6 45\n",
      "6 55\n",
      "4 40\n",
      "18 60\n",
      "10 50\n",
      "200\n"
     ]
    }
   ],
   "source": [
    "from collections import Counter\n",
    "x = int(input())\n",
    "s = list(map(int, input().split()))\n",
    "n = int(input())\n",
    "c = Counter(s)\n",
    "total = 0\n",
    "\n",
    "for _ in range(n):\n",
    "    items, price = map(int, input().split())\n",
    "    \n",
    "    if items in c and c[items] != 0:\n",
    "        total += price\n",
    "        c[items] -= 1\n",
    "        \n",
    "print(total)"
   ]
  }
 ],
 "metadata": {
  "kernelspec": {
   "display_name": "Python 3 (ipykernel)",
   "language": "python",
   "name": "python3"
  },
  "language_info": {
   "codemirror_mode": {
    "name": "ipython",
    "version": 3
   },
   "file_extension": ".py",
   "mimetype": "text/x-python",
   "name": "python",
   "nbconvert_exporter": "python",
   "pygments_lexer": "ipython3",
   "version": "3.9.10"
  }
 },
 "nbformat": 4,
 "nbformat_minor": 5
}
