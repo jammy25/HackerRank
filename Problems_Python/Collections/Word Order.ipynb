{
 "cells": [
  {
   "cell_type": "code",
   "execution_count": 31,
   "id": "db5dc4e5",
   "metadata": {
    "scrolled": true
   },
   "outputs": [
    {
     "name": "stdout",
     "output_type": "stream",
     "text": [
      "4\n",
      "bcdef\n",
      "abcdefg\n",
      "bcde\n",
      "bcdef\n",
      "3\n",
      "2 1 1\n"
     ]
    }
   ],
   "source": [
    "from collections import Counter\n",
    "n = int(input())\n",
    "words = []\n",
    "for _ in range(n):\n",
    "    words.append(input())\n",
    "\n",
    "print(len(set(words)))\n",
    "print(*Counter(words).values(), end = '\\n')"
   ]
  },
  {
   "cell_type": "code",
   "execution_count": 34,
   "id": "5eb0df58",
   "metadata": {},
   "outputs": [
    {
     "name": "stdout",
     "output_type": "stream",
     "text": [
      "4\n",
      "bcdef\n",
      "abcdefg\n",
      "bcde\n",
      "bcdef\n",
      "3\n",
      "2 1 1\n"
     ]
    }
   ],
   "source": [
    "from collections import Counter\n",
    "n = int(input())\n",
    "words = [input() for _ in range(n)]\n",
    "print(len(set(words)))\n",
    "print(*Counter(words).values(), end = '\\n')"
   ]
  }
 ],
 "metadata": {
  "kernelspec": {
   "display_name": "Python 3 (ipykernel)",
   "language": "python",
   "name": "python3"
  },
  "language_info": {
   "codemirror_mode": {
    "name": "ipython",
    "version": 3
   },
   "file_extension": ".py",
   "mimetype": "text/x-python",
   "name": "python",
   "nbconvert_exporter": "python",
   "pygments_lexer": "ipython3",
   "version": "3.9.10"
  }
 },
 "nbformat": 4,
 "nbformat_minor": 5
}
