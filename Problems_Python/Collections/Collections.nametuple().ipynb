{
 "cells": [
  {
   "cell_type": "code",
   "execution_count": 1,
   "id": "0eb8fc28",
   "metadata": {},
   "outputs": [
    {
     "name": "stdout",
     "output_type": "stream",
     "text": [
      "5\n",
      "ID MARKS NAME CLASS\n",
      "1          97         Raymond    7     \n",
      "2          50         Steven     4\n",
      "3          91         Adrian     9\n",
      "4          72         Stewart    5\n",
      "5          80         Peter      6\n",
      "78.0\n"
     ]
    }
   ],
   "source": [
    "from collections import namedtuple\n",
    "n =  int(input())\n",
    "a = namedtuple(\"school\", input())\n",
    "b = []\n",
    "\n",
    "for i in range(n):\n",
    "    \n",
    "    b.append(a(*input().split()))\n",
    "\n",
    "c = 0\n",
    "for i in b:\n",
    "    c += (int(i.MARKS))\n",
    "\n",
    "print(c/n)"
   ]
  }
 ],
 "metadata": {
  "kernelspec": {
   "display_name": "Python 3 (ipykernel)",
   "language": "python",
   "name": "python3"
  },
  "language_info": {
   "codemirror_mode": {
    "name": "ipython",
    "version": 3
   },
   "file_extension": ".py",
   "mimetype": "text/x-python",
   "name": "python",
   "nbconvert_exporter": "python",
   "pygments_lexer": "ipython3",
   "version": "3.9.10"
  }
 },
 "nbformat": 4,
 "nbformat_minor": 5
}
