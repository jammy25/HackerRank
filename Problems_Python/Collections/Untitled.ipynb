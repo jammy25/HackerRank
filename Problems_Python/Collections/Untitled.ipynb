{
 "cells": [
  {
   "cell_type": "code",
   "execution_count": 19,
   "id": "ea6fffda",
   "metadata": {
    "scrolled": false
   },
   "outputs": [
    {
     "name": "stdout",
     "output_type": "stream",
     "text": [
      "6\n",
      "append 1\n",
      "append 2\n",
      "append 3\n",
      "appendleft 4\n",
      "pop\n",
      "popleft\n",
      "1 2\n"
     ]
    }
   ],
   "source": [
    "from collections import deque\n",
    "n = int(input())\n",
    "d = deque()\n",
    "\n",
    "for i in range(n):\n",
    "    inp = str(input())\n",
    "    \n",
    "    if \"append\" in inp:\n",
    "        d.append(inp.split()[1])\n",
    "    if \"appendleft\" in inp:\n",
    "        d.appendleft(inp.split()[1])\n",
    "    if \"pop\" in inp:\n",
    "        d.pop()\n",
    "    if \"popleft\" in inp:\n",
    "        d.popleft()\n",
    "  \n",
    "print(*d)"
   ]
  },
  {
   "cell_type": "code",
   "execution_count": 20,
   "id": "d7c97ed6",
   "metadata": {},
   "outputs": [
    {
     "name": "stdout",
     "output_type": "stream",
     "text": [
      "2\n",
      "appendleft 1\n",
      "append 2\n",
      "1 1 2\n"
     ]
    }
   ],
   "source": [
    "from collections import deque\n",
    "n = int(input())\n",
    "d = deque()\n",
    "\n",
    "for i in range(n):\n",
    "    inp = str(input())\n",
    "    \n",
    "    if \"append\" in inp:\n",
    "        d.append(inp.split()[1])\n",
    "    if \"appendleft\" in inp:\n",
    "        d.appendleft(inp.split()[1])\n",
    "    if \"pop\" in inp:\n",
    "        d.pop()\n",
    "    if \"popleft\" in inp:\n",
    "        d.popleft()\n",
    "  \n",
    "print(*d)"
   ]
  }
 ],
 "metadata": {
  "kernelspec": {
   "display_name": "Python 3 (ipykernel)",
   "language": "python",
   "name": "python3"
  },
  "language_info": {
   "codemirror_mode": {
    "name": "ipython",
    "version": 3
   },
   "file_extension": ".py",
   "mimetype": "text/x-python",
   "name": "python",
   "nbconvert_exporter": "python",
   "pygments_lexer": "ipython3",
   "version": "3.9.10"
  }
 },
 "nbformat": 4,
 "nbformat_minor": 5
}
