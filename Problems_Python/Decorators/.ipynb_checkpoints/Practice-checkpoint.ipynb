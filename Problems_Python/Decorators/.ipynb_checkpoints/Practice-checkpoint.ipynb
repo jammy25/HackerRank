{
 "cells": [
  {
   "cell_type": "markdown",
   "id": "ddb56eec",
   "metadata": {},
   "source": [
    "#### GeeksForGeeks"
   ]
  },
  {
   "cell_type": "code",
   "execution_count": 2,
   "id": "5bbfb03c",
   "metadata": {},
   "outputs": [
    {
     "name": "stdout",
     "output_type": "stream",
     "text": [
      "Before\n",
      "Inside the function\n",
      "After execution\n",
      "3\n"
     ]
    }
   ],
   "source": [
    "def hello_decorator(func):\n",
    "    def inner(*args, **kwargs):\n",
    "        print(\"Before\")\n",
    "        returned_value = func(*args, **kwargs)\n",
    "        print(\"After execution\")\n",
    "        return returned_value\n",
    "    return inner\n",
    "\n",
    "@hello_decorator\n",
    "def sum_of_two_numbers(a, b):\n",
    "    print(\"Inside the function\")\n",
    "    return a + b\n",
    "\n",
    "a, b = 1, 2\n",
    "print(sum_of_two_numbers(a, b))"
   ]
  }
 ],
 "metadata": {
  "kernelspec": {
   "display_name": "Python 3 (ipykernel)",
   "language": "python",
   "name": "python3"
  },
  "language_info": {
   "codemirror_mode": {
    "name": "ipython",
    "version": 3
   },
   "file_extension": ".py",
   "mimetype": "text/x-python",
   "name": "python",
   "nbconvert_exporter": "python",
   "pygments_lexer": "ipython3",
   "version": "3.9.10"
  }
 },
 "nbformat": 4,
 "nbformat_minor": 5
}
