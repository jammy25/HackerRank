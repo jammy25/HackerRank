{
 "cells": [
  {
   "cell_type": "markdown",
   "id": "df6cfd42",
   "metadata": {},
   "source": [
    "#### GeeksForGeeks"
   ]
  },
  {
   "cell_type": "code",
   "execution_count": 3,
   "id": "18a277b2",
   "metadata": {
    "scrolled": true
   },
   "outputs": [
    {
     "name": "stdout",
     "output_type": "stream",
     "text": [
      "Before\n",
      "Inside the function\n",
      "After execution\n",
      "3\n"
     ]
    }
   ],
   "source": [
    "def hello_decorator(func):\n",
    "    def inner(*args, **kwargs):\n",
    "        print(\"Before\")\n",
    "        returned_value = func(*args, **kwargs)\n",
    "        print(\"After execution\")\n",
    "        return returned_value\n",
    "    return inner\n",
    "\n",
    "@hello_decorator\n",
    "def sum_of_two_numbers(a, b):\n",
    "    print(\"Inside the function\")\n",
    "    return a + b\n",
    "\n",
    "a, b = 1, 2\n",
    "print(sum_of_two_numbers(a, b))"
   ]
  },
  {
   "cell_type": "code",
   "execution_count": 7,
   "id": "0c53386a",
   "metadata": {},
   "outputs": [
    {
     "name": "stdout",
     "output_type": "stream",
     "text": [
      "400\n"
     ]
    }
   ],
   "source": [
    "# Chaining Decorators\n",
    "def decor1(func):\n",
    "    def inner():\n",
    "        x = func()\n",
    "        return x * x\n",
    "    return inner\n",
    "    \n",
    "def decor(func):\n",
    "    def inner():\n",
    "        x = func()\n",
    "        return x * 2\n",
    "    return inner\n",
    "\n",
    "@decor1\n",
    "@decor\n",
    "def num():\n",
    "    return 10\n",
    "print(num())"
   ]
  },
  {
   "cell_type": "code",
   "execution_count": 16,
   "id": "2db07e23",
   "metadata": {
    "scrolled": true
   },
   "outputs": [
    {
     "name": "stdout",
     "output_type": "stream",
     "text": [
      "Before\n",
      "inside decorator\n",
      "Inside actual function\n"
     ]
    }
   ],
   "source": [
    "# Decorators with parameters\n",
    "\n",
    "def decorators(func):\n",
    "    print(\"Before\")\n",
    "    def inner(*args, **kwargs):\n",
    "        print(\"inside decorator\")\n",
    "        func()\n",
    "    return inner()\n",
    "\n",
    "@decorators\n",
    "def fuctio_n():\n",
    "    print(\"Inside actual function\")"
   ]
  },
  {
   "cell_type": "code",
   "execution_count": 19,
   "id": "eb5a9755",
   "metadata": {},
   "outputs": [
    {
     "name": "stdout",
     "output_type": "stream",
     "text": [
      "before\n",
      "decorator applied\n",
      "I like Indiana jones trilogy\n",
      "Inside decorators\n"
     ]
    }
   ],
   "source": [
    "def decorators_fun(*args, **kwargs):\n",
    "    print(\"before\")\n",
    "    def wrapper(func):\n",
    "        print(\"decorator applied\")\n",
    "        print(\"I like\", kwargs['like'])\n",
    "        func()\n",
    "    return wrapper\n",
    "\n",
    "@decorators_fun(like = \"Indiana jones trilogy\")\n",
    "def fun_c():\n",
    "    print(\"Inside decorators\")"
   ]
  }
 ],
 "metadata": {
  "kernelspec": {
   "display_name": "Python 3 (ipykernel)",
   "language": "python",
   "name": "python3"
  },
  "language_info": {
   "codemirror_mode": {
    "name": "ipython",
    "version": 3
   },
   "file_extension": ".py",
   "mimetype": "text/x-python",
   "name": "python",
   "nbconvert_exporter": "python",
   "pygments_lexer": "ipython3",
   "version": "3.9.10"
  }
 },
 "nbformat": 4,
 "nbformat_minor": 5
}
