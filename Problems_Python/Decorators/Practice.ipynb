{
 "cells": [
  {
   "cell_type": "markdown",
   "id": "df6cfd42",
   "metadata": {},
   "source": [
    "#### GeeksForGeeks"
   ]
  },
  {
   "cell_type": "code",
   "execution_count": 3,
   "id": "18a277b2",
   "metadata": {
    "scrolled": true
   },
   "outputs": [
    {
     "name": "stdout",
     "output_type": "stream",
     "text": [
      "Before\n",
      "Inside the function\n",
      "After execution\n",
      "3\n"
     ]
    }
   ],
   "source": [
    "def hello_decorator(func):\n",
    "    def inner(*args, **kwargs):\n",
    "        print(\"Before\")\n",
    "        returned_value = func(*args, **kwargs)\n",
    "        print(\"After execution\")\n",
    "        return returned_value\n",
    "    return inner\n",
    "\n",
    "@hello_decorator\n",
    "def sum_of_two_numbers(a, b):\n",
    "    print(\"Inside the function\")\n",
    "    return a + b\n",
    "\n",
    "a, b = 1, 2\n",
    "print(sum_of_two_numbers(a, b))"
   ]
  },
  {
   "cell_type": "code",
   "execution_count": 7,
   "id": "0c53386a",
   "metadata": {},
   "outputs": [
    {
     "name": "stdout",
     "output_type": "stream",
     "text": [
      "400\n"
     ]
    }
   ],
   "source": [
    "# Chaining Decorators\n",
    "def decor1(func):\n",
    "    def inner():\n",
    "        x = func()\n",
    "        return x * x\n",
    "    return inner\n",
    "    \n",
    "def decor(func):\n",
    "    def inner():\n",
    "        x = func()\n",
    "        return x * 2\n",
    "    return inner\n",
    "\n",
    "@decor1\n",
    "@decor\n",
    "def num():\n",
    "    return 10\n",
    "print(num())"
   ]
  },
  {
   "cell_type": "code",
   "execution_count": 16,
   "id": "47d91649",
   "metadata": {
    "scrolled": true
   },
   "outputs": [
    {
     "name": "stdout",
     "output_type": "stream",
     "text": [
      "Before\n",
      "inside decorator\n",
      "Inside actual function\n"
     ]
    }
   ],
   "source": [
    "# Decorators with parameters\n",
    "\n",
    "def decorators(func):\n",
    "    print(\"Before\")\n",
    "    def inner(*args, **kwargs):\n",
    "        print(\"inside decorator\")\n",
    "        func()\n",
    "    return inner()\n",
    "\n",
    "@decorators\n",
    "def fuctio_n():\n",
    "    print(\"Inside actual function\")"
   ]
  },
  {
   "cell_type": "code",
   "execution_count": 20,
   "id": "d2e33da5",
   "metadata": {},
   "outputs": [
    {
     "name": "stdout",
     "output_type": "stream",
     "text": [
      "before\n",
      "decorator applied\n",
      "I like Indiana jones trilogy\n",
      "Inside decorators\n"
     ]
    }
   ],
   "source": [
    "def decorators_fun(*args, **kwargs):\n",
    "    print(\"before\")\n",
    "    def wrapper(func):\n",
    "        print(\"decorator applied\")\n",
    "        print(\"I like\", kwargs['like'])\n",
    "        func()\n",
    "    return wrapper\n",
    "\n",
    "@decorators_fun(like = \"Indiana jones trilogy\")\n",
    "def fun_c():\n",
    "    print(\"Inside decorators\")"
   ]
  },
  {
   "cell_type": "code",
   "execution_count": 31,
   "id": "df7e80bb",
   "metadata": {},
   "outputs": [
    {
     "name": "stdout",
     "output_type": "stream",
     "text": [
      "Decorator for string_join\n",
      "Decorator for summation,\n",
      "\n",
      "string_join started..\n",
      "Atomic Habits is a great book \n",
      "\n",
      "summation started..\n",
      "46\n"
     ]
    }
   ],
   "source": [
    "# Multi-level Decorators with parameters\n",
    "\n",
    "def decorators(dataTypes, message1, message2):\n",
    "    def decorate(fun):\n",
    "        print(message1)\n",
    "        def wrapper(*args, **kwargs):\n",
    "            print(message2)\n",
    "            if all([type(arg) == dataTypes for arg in args]):\n",
    "                return fun(*args, **kwargs)\n",
    "            return \"Invalid input\"\n",
    "        return wrapper\n",
    "    return decorate\n",
    "    \n",
    "@decorators(str, \"Decorator for string_join\", \"string_join started..\")\n",
    "def string_join(*args):\n",
    "    st = ''\n",
    "    for i in args:\n",
    "        st += i\n",
    "    return st\n",
    "\n",
    "@decorators(int, \"Decorator for summation,\\n\", \"summation started..\")\n",
    "def summation(*args):\n",
    "    summ = 0\n",
    "    for arg in args:\n",
    "        summ += arg\n",
    "    return summ\n",
    "\n",
    "print(string_join(\"Atomic \", \"Habits \", \"is \", \"a \", \"great \", \"book \"))\n",
    "print()\n",
    "print(summation(1, 5, 10, 17, 13))"
   ]
  }
 ],
 "metadata": {
  "kernelspec": {
   "display_name": "Python 3 (ipykernel)",
   "language": "python",
   "name": "python3"
  },
  "language_info": {
   "codemirror_mode": {
    "name": "ipython",
    "version": 3
   },
   "file_extension": ".py",
   "mimetype": "text/x-python",
   "name": "python",
   "nbconvert_exporter": "python",
   "pygments_lexer": "ipython3",
   "version": "3.9.10"
  }
 },
 "nbformat": 4,
 "nbformat_minor": 5
}
